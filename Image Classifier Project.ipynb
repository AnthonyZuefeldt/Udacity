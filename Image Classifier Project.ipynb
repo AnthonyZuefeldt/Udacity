{
 "cells": [
  {
   "cell_type": "markdown",
   "metadata": {},
   "source": [
    "# Developing an AI application\n",
    "\n",
    "Going forward, AI algorithms will be incorporated into more and more everyday applications. For example, you might want to include an image classifier in a smart phone app. To do this, you'd use a deep learning model trained on hundreds of thousands of images as part of the overall application architecture. A large part of software development in the future will be using these types of models as common parts of applications. \n",
    "\n",
    "In this project, you'll train an image classifier to recognize different species of flowers. You can imagine using something like this in a phone app that tells you the name of the flower your camera is looking at. In practice you'd train this classifier, then export it for use in your application. We'll be using [this dataset](http://www.robots.ox.ac.uk/~vgg/data/flowers/102/index.html) of 102 flower categories, you can see a few examples below. \n",
    "\n",
    "<img src='assets/Flowers.png' width=500px>\n",
    "\n",
    "The project is broken down into multiple steps:\n",
    "\n",
    "* Load and preprocess the image dataset\n",
    "* Train the image classifier on your dataset\n",
    "* Use the trained classifier to predict image content\n",
    "\n",
    "We'll lead you through each part which you'll implement in Python.\n",
    "\n",
    "When you've completed this project, you'll have an application that can be trained on any set of labeled images. Here your network will be learning about flowers and end up as a command line application. But, what you do with your new skills depends on your imagination and effort in building a dataset. For example, imagine an app where you take a picture of a car, it tells you what the make and model is, then looks up information about it. Go build your own dataset and make something new.\n",
    "\n",
    "First up is importing the packages you'll need. It's good practice to keep all the imports at the beginning of your code. As you work through this notebook and find you need to import a package, make sure to add the import up here."
   ]
  },
  {
   "cell_type": "code",
   "execution_count": 10,
   "metadata": {},
   "outputs": [],
   "source": [
    "# Imports here\n",
    "#All packages used here were covered at various points within Udacity's Python course\n",
    "import matplotlib.pyplot as plt\n",
    "import numpy as np\n",
    "\n",
    "import os\n",
    "\n",
    "import pandas as pd\n",
    "\n",
    "import time\n",
    "\n",
    "import torch\n",
    "from torch import nn\n",
    "from torch import optim\n",
    "from torch import tensor\n",
    "from torch.autograd import Variable\n",
    "from torchvision import models, datasets, transforms\n",
    "import torch.nn.functional as F\n",
    "from torch.optim import lr_scheduler\n",
    "\n",
    "from collections import OrderedDict\n"
   ]
  },
  {
   "cell_type": "markdown",
   "metadata": {},
   "source": [
    "## Load the data\n",
    "\n",
    "Here you'll use `torchvision` to load the data ([documentation](http://pytorch.org/docs/0.3.0/torchvision/index.html)). The data should be included alongside this notebook, otherwise you can [download it here](https://s3.amazonaws.com/content.udacity-data.com/nd089/flower_data.tar.gz). The dataset is split into three parts, training, validation, and testing. For the training, you'll want to apply transformations such as random scaling, cropping, and flipping. This will help the network generalize leading to better performance. You'll also need to make sure the input data is resized to 224x224 pixels as required by the pre-trained networks.\n",
    "\n",
    "The validation and testing sets are used to measure the model's performance on data it hasn't seen yet. For this you don't want any scaling or rotation transformations, but you'll need to resize then crop the images to the appropriate size.\n",
    "\n",
    "The pre-trained networks you'll use were trained on the ImageNet dataset where each color channel was normalized separately. For all three sets you'll need to normalize the means and standard deviations of the images to what the network expects. For the means, it's `[0.485, 0.456, 0.406]` and for the standard deviations `[0.229, 0.224, 0.225]`, calculated from the ImageNet images.  These values will shift each color channel to be centered at 0 and range from -1 to 1.\n",
    " "
   ]
  },
  {
   "cell_type": "code",
   "execution_count": 11,
   "metadata": {},
   "outputs": [],
   "source": [
    "data_dir = 'flowers'\n",
    "train_dir = data_dir + '/train'\n",
    "valid_dir = data_dir + '/valid'\n",
    "test_dir = data_dir + '/test'"
   ]
  },
  {
   "cell_type": "code",
   "execution_count": 12,
   "metadata": {},
   "outputs": [
    {
     "name": "stdout",
     "output_type": "stream",
     "text": [
      "Training: 100 | Validation: 13 | Test: 13\n"
     ]
    }
   ],
   "source": [
    "# Defines the transforms for the training, validation, and testing sets\n",
    "\n",
    "# Adding additional variability and randomness helps the model to generalize new images\n",
    "    # Compose function is used to consolidate the following transform functions:\n",
    "        # RandomResizedCrop - Crops the input image to a random size\n",
    "        # RandomRotation - Randomly rotates the input image a rotation increment of 15 degrees\n",
    "        # RandomHorizontalFlip - Applies a horizontal flip randomly to input images (probability of 0.5)\n",
    "        # RandomVerticalFlip - Applies a vertical flip randomly to input images\n",
    "        # ToTensor - Converts input data into tensor format\n",
    "        # Normalize - Normalizes the mean and standard deviations of the images to what the network expects\n",
    "            # These values shift each color channel to be centered at 0 and range from -1 to 1\n",
    "            \n",
    "    # Validation ('valid') data transforms are only intended to ensure compliance with the pretrained network\n",
    "    # Test ('test') data transforms are only intended to ensure compliance with the pretrained network\n",
    "        \n",
    "data_transforms = {\n",
    "    'train' : transforms.Compose([\n",
    "        transforms.RandomResizedCrop(size = 224),\n",
    "        transforms.RandomRotation(15),\n",
    "        transforms.RandomHorizontalFlip(),\n",
    "        transforms.RandomVerticalFlip(),\n",
    "        transforms.ToTensor(),\n",
    "        transforms.Normalize([0.485, 0.456, 0.406],[0.229, 0.224, 0.225])        \n",
    "    ]),\n",
    "    'valid' : transforms.Compose([\n",
    "        transforms.Resize(size = 256),\n",
    "        transforms.CenterCrop(224),\n",
    "        transforms.ToTensor(),\n",
    "        transforms.Normalize([0.485, 0.456, 0.406],[0.229, 0.224, 0.225])        \n",
    "    ]),\n",
    "    'test' : transforms.Compose([\n",
    "        transforms.Resize(size = 256),\n",
    "        transforms.CenterCrop(224),\n",
    "        transforms.ToTensor(),\n",
    "        transforms.Normalize([0.485, 0.456, 0.406],[0.229, 0.224, 0.225])\n",
    "    ])\n",
    "}\n",
    "\n",
    "# Loads the datasets with ImageFolder\n",
    "image_datasets = {\n",
    "    'train' : datasets.ImageFolder(train_dir, transform = data_transforms['train']),\n",
    "    'valid' : datasets.ImageFolder(valid_dir, transform = data_transforms['valid']),\n",
    "    'test' : datasets.ImageFolder(test_dir, transform = data_transforms['test'])\n",
    "}\n",
    "\n",
    "# Using the image datasets and the trainforms, define the dataloaders for each set, 'train', 'valid', and 'test'\n",
    "#batch size is a multiple of the set of images are (there are 6600 images in the training set)\n",
    "#so batch size 100 takes the 6600 images divides by 100, and produces a data loader size of 66\n",
    "#batch size variable\n",
    "train_loader = torch.utils.data.DataLoader(image_datasets['train'], batch_size=66, shuffle=True)\n",
    "validation_loader = torch.utils.data.DataLoader(image_datasets['valid'], batch_size =66,shuffle = True)\n",
    "test_loader = torch.utils.data.DataLoader(image_datasets['test'], batch_size = 66, shuffle = True)\n",
    "\n",
    "#Record the dataset sizes\n",
    "size_train_loader = len(train_loader)\n",
    "size_validation_loader = len(validation_loader)\n",
    "size_test_loader = len(test_loader)\n",
    "\n",
    "print('Training:', size_train_loader, '| Validation:', size_validation_loader, '| Test:', size_test_loader)"
   ]
  },
  {
   "cell_type": "markdown",
   "metadata": {},
   "source": [
    "### Label mapping\n",
    "\n",
    "You'll also need to load in a mapping from category label to category name. You can find this in the file `cat_to_name.json`. It's a JSON object which you can read in with the [`json` module](https://docs.python.org/2/library/json.html). This will give you a dictionary mapping the integer encoded categories to the actual names of the flowers."
   ]
  },
  {
   "cell_type": "code",
   "execution_count": 13,
   "metadata": {},
   "outputs": [
    {
     "data": {
      "text/plain": [
       "({'21': 'fire lily',\n",
       "  '3': 'canterbury bells',\n",
       "  '45': 'bolero deep blue',\n",
       "  '1': 'pink primrose',\n",
       "  '34': 'mexican aster',\n",
       "  '27': 'prince of wales feathers',\n",
       "  '7': 'moon orchid',\n",
       "  '16': 'globe-flower',\n",
       "  '25': 'grape hyacinth',\n",
       "  '26': 'corn poppy',\n",
       "  '79': 'toad lily',\n",
       "  '39': 'siam tulip',\n",
       "  '24': 'red ginger',\n",
       "  '67': 'spring crocus',\n",
       "  '35': 'alpine sea holly',\n",
       "  '32': 'garden phlox',\n",
       "  '10': 'globe thistle',\n",
       "  '6': 'tiger lily',\n",
       "  '93': 'ball moss',\n",
       "  '33': 'love in the mist',\n",
       "  '9': 'monkshood',\n",
       "  '102': 'blackberry lily',\n",
       "  '14': 'spear thistle',\n",
       "  '19': 'balloon flower',\n",
       "  '100': 'blanket flower',\n",
       "  '13': 'king protea',\n",
       "  '49': 'oxeye daisy',\n",
       "  '15': 'yellow iris',\n",
       "  '61': 'cautleya spicata',\n",
       "  '31': 'carnation',\n",
       "  '64': 'silverbush',\n",
       "  '68': 'bearded iris',\n",
       "  '63': 'black-eyed susan',\n",
       "  '69': 'windflower',\n",
       "  '62': 'japanese anemone',\n",
       "  '20': 'giant white arum lily',\n",
       "  '38': 'great masterwort',\n",
       "  '4': 'sweet pea',\n",
       "  '86': 'tree mallow',\n",
       "  '101': 'trumpet creeper',\n",
       "  '42': 'daffodil',\n",
       "  '22': 'pincushion flower',\n",
       "  '2': 'hard-leaved pocket orchid',\n",
       "  '54': 'sunflower',\n",
       "  '66': 'osteospermum',\n",
       "  '70': 'tree poppy',\n",
       "  '85': 'desert-rose',\n",
       "  '99': 'bromelia',\n",
       "  '87': 'magnolia',\n",
       "  '5': 'english marigold',\n",
       "  '92': 'bee balm',\n",
       "  '28': 'stemless gentian',\n",
       "  '97': 'mallow',\n",
       "  '57': 'gaura',\n",
       "  '40': 'lenten rose',\n",
       "  '47': 'marigold',\n",
       "  '59': 'orange dahlia',\n",
       "  '48': 'buttercup',\n",
       "  '55': 'pelargonium',\n",
       "  '36': 'ruby-lipped cattleya',\n",
       "  '91': 'hippeastrum',\n",
       "  '29': 'artichoke',\n",
       "  '71': 'gazania',\n",
       "  '90': 'canna lily',\n",
       "  '18': 'peruvian lily',\n",
       "  '98': 'mexican petunia',\n",
       "  '8': 'bird of paradise',\n",
       "  '30': 'sweet william',\n",
       "  '17': 'purple coneflower',\n",
       "  '52': 'wild pansy',\n",
       "  '84': 'columbine',\n",
       "  '12': \"colt's foot\",\n",
       "  '11': 'snapdragon',\n",
       "  '96': 'camellia',\n",
       "  '23': 'fritillary',\n",
       "  '50': 'common dandelion',\n",
       "  '44': 'poinsettia',\n",
       "  '53': 'primula',\n",
       "  '72': 'azalea',\n",
       "  '65': 'californian poppy',\n",
       "  '80': 'anthurium',\n",
       "  '76': 'morning glory',\n",
       "  '37': 'cape flower',\n",
       "  '56': 'bishop of llandaff',\n",
       "  '60': 'pink-yellow dahlia',\n",
       "  '82': 'clematis',\n",
       "  '58': 'geranium',\n",
       "  '75': 'thorn apple',\n",
       "  '41': 'barbeton daisy',\n",
       "  '95': 'bougainvillea',\n",
       "  '43': 'sword lily',\n",
       "  '83': 'hibiscus',\n",
       "  '78': 'lotus lotus',\n",
       "  '88': 'cyclamen',\n",
       "  '94': 'foxglove',\n",
       "  '81': 'frangipani',\n",
       "  '74': 'rose',\n",
       "  '89': 'watercress',\n",
       "  '73': 'water lily',\n",
       "  '46': 'wallflower',\n",
       "  '77': 'passion flower',\n",
       "  '51': 'petunia'},\n",
       " 102)"
      ]
     },
     "execution_count": 13,
     "metadata": {},
     "output_type": "execute_result"
    }
   ],
   "source": [
    "#import json object 'cat_to_name' for dictionary mapping the integer encoded categories to actual flower names\n",
    "import json\n",
    "\n",
    "with open('cat_to_name.json', 'r') as f:\n",
    "    cat_to_name = json.load(f)\n",
    "    \n",
    "cat_count = len(cat_to_name)\n",
    "(cat_to_name, cat_count)"
   ]
  },
  {
   "cell_type": "markdown",
   "metadata": {},
   "source": [
    "# Building and training the classifier\n",
    "\n",
    "Now that the data is ready, it's time to build and train the classifier. As usual, you should use one of the pretrained models from `torchvision.models` to get the image features. Build and train a new feed-forward classifier using those features.\n",
    "\n",
    "We're going to leave this part up to you. Refer to [the rubric](https://review.udacity.com/#!/rubrics/1663/view) for guidance on successfully completing this section. Things you'll need to do:\n",
    "\n",
    "* Load a [pre-trained network](http://pytorch.org/docs/master/torchvision/models.html) (If you need a starting point, the VGG networks work great and are straightforward to use)\n",
    "* Define a new, untrained feed-forward network as a classifier, using ReLU activations and dropout\n",
    "* Train the classifier layers using backpropagation using the pre-trained network to get the features\n",
    "* Track the loss and accuracy on the validation set to determine the best hyperparameters\n",
    "\n",
    "We've left a cell open for you below, but use as many as you need. Our advice is to break the problem up into smaller parts you can run separately. Check that each part is doing what you expect, then move on to the next. You'll likely find that as you work through each part, you'll need to go back and modify your previous code. This is totally normal!\n",
    "\n",
    "When training make sure you're updating only the weights of the feed-forward network. You should be able to get the validation accuracy above 70% if you build everything right. Make sure to try different hyperparameters (learning rate, units in the classifier, epochs, etc) to find the best model. Save those hyperparameters to use as default values in the next part of the project.\n",
    "\n",
    "One last important tip if you're using the workspace to run your code: To avoid having your workspace disconnect during the long-running tasks in this notebook, please read in the earlier page in this lesson called Intro to\n",
    "GPU Workspaces about Keeping Your Session Active. You'll want to include code from the workspace_utils.py module.\n",
    "\n",
    "**Note for Workspace users:** If your network is over 1 GB when saved as a checkpoint, there might be issues with saving backups in your workspace. Typically this happens with wide dense layers after the convolutional layers. If your saved checkpoint is larger than 1 GB (you can open a terminal and check with `ls -lh`), you should reduce the size of your hidden layers and train again."
   ]
  },
  {
   "cell_type": "code",
   "execution_count": 14,
   "metadata": {},
   "outputs": [
    {
     "name": "stdout",
     "output_type": "stream",
     "text": [
      "Sequential(\n",
      "  (0): Linear(in_features=25088, out_features=4096, bias=True)\n",
      "  (1): ReLU(inplace)\n",
      "  (2): Dropout(p=0.5)\n",
      "  (3): Linear(in_features=4096, out_features=4096, bias=True)\n",
      "  (4): ReLU(inplace)\n",
      "  (5): Dropout(p=0.5)\n",
      "  (6): Linear(in_features=4096, out_features=1000, bias=True)\n",
      ")\n"
     ]
    },
    {
     "data": {
      "text/plain": [
       "Sequential(\n",
       "  (fc1): Linear(in_features=25088, out_features=4096, bias=True)\n",
       "  (relu): ReLU()\n",
       "  (dropout): Dropout(p=0.5)\n",
       "  (fc2): Linear(in_features=4096, out_features=102, bias=True)\n",
       "  (output): LogSoftmax()\n",
       ")"
      ]
     },
     "execution_count": 14,
     "metadata": {},
     "output_type": "execute_result"
    }
   ],
   "source": [
    "# Build and train the network\n",
    "# There are a multitude of models available. \n",
    "# This project uses the VGG16 model since it was one covered in training\n",
    "# The model can be swapped out here for another\n",
    "\n",
    "model = models.vgg16(pretrained = True)\n",
    "\n",
    "for param in model.parameters():\n",
    "    param.requires_grad = False\n",
    "\n",
    "# Access model input and output layer counts\n",
    "print(model.classifier)\n",
    "\n",
    "# Layer mapping for model input and outputs\n",
    "classifier = nn.Sequential(OrderedDict ([\n",
    "    ('fc1', nn.Linear(25088, 4096)),\n",
    "    ('relu', nn.ReLU()),\n",
    "    ('dropout', nn.Dropout(0.5)),\n",
    "    ('fc2', nn.Linear(4096, cat_count)),\n",
    "    ('output', nn.LogSoftmax(dim = 1))\n",
    "]))\n",
    "\n",
    "model.classifier = classifier\n",
    "\n",
    "model.classifier"
   ]
  },
  {
   "cell_type": "code",
   "execution_count": 15,
   "metadata": {},
   "outputs": [],
   "source": [
    "# GPU toggle; activates GPU operation if it is available\n",
    "if torch.cuda.is_available():\n",
    "    device = 'cuda'\n",
    "else:\n",
    "    device = 'cpu'"
   ]
  },
  {
   "cell_type": "code",
   "execution_count": 16,
   "metadata": {},
   "outputs": [],
   "source": [
    "#training parameters\n",
    "print_check = 5\n",
    "criterion = nn.NLLLoss()\n",
    "epoch_count = 1\n",
    "optimizer = optim.Adam(model.classifier.parameters(),lr=.001)\n",
    "running_loss = running_accuracy = 0\n",
    "validation_losses, training_losses = [], []\n"
   ]
  },
  {
   "cell_type": "code",
   "execution_count": 19,
   "metadata": {},
   "outputs": [
    {
     "name": "stdout",
     "output_type": "stream",
     "text": [
      "1\n",
      "2\n",
      "3\n",
      "4\n",
      "5\n"
     ]
    },
    {
     "ename": "TypeError",
     "evalue": "'Tensor' object is not callable",
     "output_type": "error",
     "traceback": [
      "\u001b[0;31m---------------------------------------------------------------------------\u001b[0m",
      "\u001b[0;31mTypeError\u001b[0m                                 Traceback (most recent call last)",
      "\u001b[0;32m<ipython-input-19-4bc65ec28794>\u001b[0m in \u001b[0;36m<module>\u001b[0;34m()\u001b[0m\n\u001b[1;32m     47\u001b[0m                     \u001b[0mcalc\u001b[0m \u001b[0;34m=\u001b[0m \u001b[0mtorch\u001b[0m\u001b[0;34m.\u001b[0m\u001b[0mexp\u001b[0m\u001b[0;34m(\u001b[0m\u001b[0mlog_calc\u001b[0m\u001b[0;34m)\u001b[0m\u001b[0;34m\u001b[0m\u001b[0m\n\u001b[1;32m     48\u001b[0m                     \u001b[0mbest_calc\u001b[0m\u001b[0;34m,\u001b[0m \u001b[0mbest_class\u001b[0m \u001b[0;34m=\u001b[0m \u001b[0mcalc\u001b[0m\u001b[0;34m.\u001b[0m\u001b[0mtopk\u001b[0m\u001b[0;34m(\u001b[0m\u001b[0;36m1\u001b[0m\u001b[0;34m,\u001b[0m \u001b[0mdim\u001b[0m \u001b[0;34m=\u001b[0m \u001b[0;36m1\u001b[0m\u001b[0;34m)\u001b[0m\u001b[0;34m\u001b[0m\u001b[0m\n\u001b[0;32m---> 49\u001b[0;31m                     \u001b[0mmatches\u001b[0m \u001b[0;34m=\u001b[0m \u001b[0mbest_class\u001b[0m \u001b[0;34m==\u001b[0m \u001b[0;34m(\u001b[0m\u001b[0mlabels\u001b[0m\u001b[0;34m.\u001b[0m\u001b[0mview\u001b[0m\u001b[0;34m(\u001b[0m\u001b[0;34m*\u001b[0m\u001b[0mbest_class\u001b[0m\u001b[0;34m.\u001b[0m\u001b[0mshape\u001b[0m\u001b[0;34m)\u001b[0m\u001b[0;34m)\u001b[0m\u001b[0;34m(\u001b[0m\u001b[0mtorch\u001b[0m\u001b[0;34m.\u001b[0m\u001b[0mFloatTensor\u001b[0m\u001b[0;34m)\u001b[0m\u001b[0;34m\u001b[0m\u001b[0m\n\u001b[0m\u001b[1;32m     50\u001b[0m                     \u001b[0maccuracy\u001b[0m \u001b[0;34m=\u001b[0m \u001b[0mmatches\u001b[0m\u001b[0;34m.\u001b[0m\u001b[0mmean\u001b[0m\u001b[0;34m\u001b[0m\u001b[0m\n\u001b[1;32m     51\u001b[0m                     \u001b[0maccuracy_sum\u001b[0m \u001b[0;34m+=\u001b[0m \u001b[0maccuracy\u001b[0m\u001b[0;34m\u001b[0m\u001b[0m\n",
      "\u001b[0;31mTypeError\u001b[0m: 'Tensor' object is not callable"
     ]
    }
   ],
   "source": [
    "model.to(device)\n",
    "\n",
    "for epoch in range(epoch_count):\n",
    "    model.train()\n",
    "    \n",
    "    #create placeholder variables\n",
    "    train_loss = 0.0\n",
    "    train_accuracy = 0.0\n",
    "    \n",
    "    validation_loss = 0.0\n",
    "    validation_accuracy = 0.0\n",
    "    \n",
    "    batches = 0\n",
    "    \n",
    "    for images, labels in train_loader:\n",
    "        start_time = time.time()\n",
    "        batches += 1\n",
    "        \n",
    "        images, labels = images.to(device), labels.to(device)\n",
    "        \n",
    "        log_calc = model.forward(images)\n",
    "        loss_calc = criterion(log_calc, labels)\n",
    "        loss_calc.backward()\n",
    "        optimizer.step()\n",
    "        \n",
    "        calc = torch.exp(log_calc)\n",
    "        best_calc, best_class = calc.topk(1, dim = 1)\n",
    "        matches = (best_class == labels.view(*best_class.shape)).type(torch.FloatTensor)\n",
    "        accuracy = matches.mean()\n",
    "        \n",
    "        optimizer.zero_grad()\n",
    "        running_loss += loss_calc.item()\n",
    "        running_accuracy += accuracy.item()\n",
    "        \n",
    "        print(batches)\n",
    "        if batches % print_check == 0:\n",
    "            end_time = time.time()\n",
    "            run_time = end_time - start_time\n",
    "            start_time = time.time()\n",
    "            \n",
    "            model.eval()\n",
    "            with torch.no_grad():\n",
    "                for images, labels in validation_loader:\n",
    "                    images, labels = images.to(device), labels.to(device)\n",
    "                    log_calc = model.forward(images)\n",
    "                    loss_calc = criterion(log_calc, labels)\n",
    "                    calc = torch.exp(log_calc)\n",
    "                    best_calc, best_class = calc.topk(1, dim = 1)\n",
    "                    matches = best_class == (labels.view(*best_class.shape))(torch.FloatTensor)\n",
    "                    accuracy = matches.mean\n",
    "                    accuracy_sum += accuracy\n",
    "                    \n",
    "                    validation_loss += loss.item\n",
    "                    validation_accuracy += accuracy.item()\n",
    "            \n",
    "            end_time = time.time()\n",
    "            validation_time = end_time - start_time\n",
    "            validation_losses.append(running_loss / print_check)\n",
    "            training_losses.append(validation_loss / len(valid_dataloader))\n",
    "            \n",
    "            #printing the resultant data output of each epoch and batch\n",
    "            print (f'Testing Epoch{e+1}/{epochs} | Batch {batches}')\n",
    "            \n",
    "            running_loss = running_accuracy = 0\n",
    "            model.train()\n",
    "                    \n",
    "        "
   ]
  },
  {
   "cell_type": "code",
   "execution_count": 21,
   "metadata": {},
   "outputs": [
    {
     "ename": "TypeError",
     "evalue": "training_model() missing 2 required positional arguments: 'scheduler' and 'epoch_count'",
     "output_type": "error",
     "traceback": [
      "\u001b[0;31m---------------------------------------------------------------------------\u001b[0m",
      "\u001b[0;31mTypeError\u001b[0m                                 Traceback (most recent call last)",
      "\u001b[0;32m<ipython-input-21-9d24d8e6f725>\u001b[0m in \u001b[0;36m<module>\u001b[0;34m()\u001b[0m\n\u001b[1;32m     64\u001b[0m             \u001b[0;32mreturn\u001b[0m \u001b[0mmodel\u001b[0m\u001b[0;34m\u001b[0m\u001b[0m\n\u001b[1;32m     65\u001b[0m \u001b[0;34m\u001b[0m\u001b[0m\n\u001b[0;32m---> 66\u001b[0;31m \u001b[0mtraining_model\u001b[0m\u001b[0;34m(\u001b[0m\u001b[0mmodel\u001b[0m\u001b[0;34m,\u001b[0m \u001b[0moptimizer\u001b[0m\u001b[0;34m,\u001b[0m \u001b[0mcriterion\u001b[0m\u001b[0;34m,\u001b[0m\u001b[0;34m)\u001b[0m\u001b[0;34m\u001b[0m\u001b[0m\n\u001b[0m\u001b[1;32m     67\u001b[0m \u001b[0;34m\u001b[0m\u001b[0m\n",
      "\u001b[0;31mTypeError\u001b[0m: training_model() missing 2 required positional arguments: 'scheduler' and 'epoch_count'"
     ]
    }
   ],
   "source": []
  },
  {
   "cell_type": "code",
   "execution_count": null,
   "metadata": {},
   "outputs": [],
   "source": []
  },
  {
   "cell_type": "markdown",
   "metadata": {},
   "source": [
    "## Testing your network\n",
    "\n",
    "It's good practice to test your trained network on test data, images the network has never seen either in training or validation. This will give you a good estimate for the model's performance on completely new images. Run the test images through the network and measure the accuracy, the same way you did validation. You should be able to reach around 70% accuracy on the test set if the model has been trained well."
   ]
  },
  {
   "cell_type": "code",
   "execution_count": null,
   "metadata": {},
   "outputs": [],
   "source": [
    "# Do validation on the test set\n",
    "\n",
    "test_set_correct = 0\n",
    "test_set_total = 0\n",
    "\n",
    "with torch.no_grad():\n",
    "    for data in test_loader:\n",
    "        inputs, labels = data\n",
    "        inputs, labels = inputs.to('cuda'), labels.to('cuda')\n",
    "        outputs = model \n",
    "        "
   ]
  },
  {
   "cell_type": "markdown",
   "metadata": {},
   "source": [
    "## Save the checkpoint\n",
    "\n",
    "Now that your network is trained, save the model so you can load it later for making predictions. You probably want to save other things such as the mapping of classes to indices which you get from one of the image datasets: `image_datasets['train'].class_to_idx`. You can attach this to the model as an attribute which makes inference easier later on.\n",
    "\n",
    "```model.class_to_idx = image_datasets['train'].class_to_idx```\n",
    "\n",
    "Remember that you'll want to completely rebuild the model later so you can use it for inference. Make sure to include any information you need in the checkpoint. If you want to load the model and keep training, you'll want to save the number of epochs as well as the optimizer state, `optimizer.state_dict`. You'll likely want to use this trained model in the next part of the project, so best to save it now."
   ]
  },
  {
   "cell_type": "code",
   "execution_count": null,
   "metadata": {},
   "outputs": [],
   "source": [
    "# TODO: Save the checkpoint "
   ]
  },
  {
   "cell_type": "markdown",
   "metadata": {},
   "source": [
    "## Loading the checkpoint\n",
    "\n",
    "At this point it's good to write a function that can load a checkpoint and rebuild the model. That way you can come back to this project and keep working on it without having to retrain the network."
   ]
  },
  {
   "cell_type": "code",
   "execution_count": null,
   "metadata": {},
   "outputs": [],
   "source": [
    "# TODO: Write a function that loads a checkpoint and rebuilds the model"
   ]
  },
  {
   "cell_type": "markdown",
   "metadata": {},
   "source": [
    "# Inference for classification\n",
    "\n",
    "Now you'll write a function to use a trained network for inference. That is, you'll pass an image into the network and predict the class of the flower in the image. Write a function called `predict` that takes an image and a model, then returns the top $K$ most likely classes along with the probabilities. It should look like \n",
    "\n",
    "```python\n",
    "probs, classes = predict(image_path, model)\n",
    "print(probs)\n",
    "print(classes)\n",
    "> [ 0.01558163  0.01541934  0.01452626  0.01443549  0.01407339]\n",
    "> ['70', '3', '45', '62', '55']\n",
    "```\n",
    "\n",
    "First you'll need to handle processing the input image such that it can be used in your network. \n",
    "\n",
    "## Image Preprocessing\n",
    "\n",
    "You'll want to use `PIL` to load the image ([documentation](https://pillow.readthedocs.io/en/latest/reference/Image.html)). It's best to write a function that preprocesses the image so it can be used as input for the model. This function should process the images in the same manner used for training. \n",
    "\n",
    "First, resize the images where the shortest side is 256 pixels, keeping the aspect ratio. This can be done with the [`thumbnail`](http://pillow.readthedocs.io/en/3.1.x/reference/Image.html#PIL.Image.Image.thumbnail) or [`resize`](http://pillow.readthedocs.io/en/3.1.x/reference/Image.html#PIL.Image.Image.thumbnail) methods. Then you'll need to crop out the center 224x224 portion of the image.\n",
    "\n",
    "Color channels of images are typically encoded as integers 0-255, but the model expected floats 0-1. You'll need to convert the values. It's easiest with a Numpy array, which you can get from a PIL image like so `np_image = np.array(pil_image)`.\n",
    "\n",
    "As before, the network expects the images to be normalized in a specific way. For the means, it's `[0.485, 0.456, 0.406]` and for the standard deviations `[0.229, 0.224, 0.225]`. You'll want to subtract the means from each color channel, then divide by the standard deviation. \n",
    "\n",
    "And finally, PyTorch expects the color channel to be the first dimension but it's the third dimension in the PIL image and Numpy array. You can reorder dimensions using [`ndarray.transpose`](https://docs.scipy.org/doc/numpy-1.13.0/reference/generated/numpy.ndarray.transpose.html). The color channel needs to be first and retain the order of the other two dimensions."
   ]
  },
  {
   "cell_type": "code",
   "execution_count": null,
   "metadata": {},
   "outputs": [],
   "source": [
    "def process_image(image):\n",
    "    ''' Scales, crops, and normalizes a PIL image for a PyTorch model,\n",
    "        returns an Numpy array\n",
    "    '''\n",
    "    \n",
    "    # TODO: Process a PIL image for use in a PyTorch model"
   ]
  },
  {
   "cell_type": "markdown",
   "metadata": {},
   "source": [
    "To check your work, the function below converts a PyTorch tensor and displays it in the notebook. If your `process_image` function works, running the output through this function should return the original image (except for the cropped out portions)."
   ]
  },
  {
   "cell_type": "code",
   "execution_count": null,
   "metadata": {},
   "outputs": [],
   "source": [
    "def imshow(image, ax=None, title=None):\n",
    "    \"\"\"Imshow for Tensor.\"\"\"\n",
    "    if ax is None:\n",
    "        fig, ax = plt.subplots()\n",
    "    \n",
    "    # PyTorch tensors assume the color channel is the first dimension\n",
    "    # but matplotlib assumes is the third dimension\n",
    "    image = image.numpy().transpose((1, 2, 0))\n",
    "    \n",
    "    # Undo preprocessing\n",
    "    mean = np.array([0.485, 0.456, 0.406])\n",
    "    std = np.array([0.229, 0.224, 0.225])\n",
    "    image = std * image + mean\n",
    "    \n",
    "    # Image needs to be clipped between 0 and 1 or it looks like noise when displayed\n",
    "    image = np.clip(image, 0, 1)\n",
    "    \n",
    "    ax.imshow(image)\n",
    "    \n",
    "    return ax"
   ]
  },
  {
   "cell_type": "markdown",
   "metadata": {},
   "source": [
    "## Class Prediction\n",
    "\n",
    "Once you can get images in the correct format, it's time to write a function for making predictions with your model. A common practice is to predict the top 5 or so (usually called top-$K$) most probable classes. You'll want to calculate the class probabilities then find the $K$ largest values.\n",
    "\n",
    "To get the top $K$ largest values in a tensor use [`x.topk(k)`](http://pytorch.org/docs/master/torch.html#torch.topk). This method returns both the highest `k` probabilities and the indices of those probabilities corresponding to the classes. You need to convert from these indices to the actual class labels using `class_to_idx` which hopefully you added to the model or from an `ImageFolder` you used to load the data ([see here](#Save-the-checkpoint)). Make sure to invert the dictionary so you get a mapping from index to class as well.\n",
    "\n",
    "Again, this method should take a path to an image and a model checkpoint, then return the probabilities and classes.\n",
    "\n",
    "```python\n",
    "probs, classes = predict(image_path, model)\n",
    "print(probs)\n",
    "print(classes)\n",
    "> [ 0.01558163  0.01541934  0.01452626  0.01443549  0.01407339]\n",
    "> ['70', '3', '45', '62', '55']\n",
    "```"
   ]
  },
  {
   "cell_type": "code",
   "execution_count": null,
   "metadata": {},
   "outputs": [],
   "source": [
    "def predict(image_path, model, topk=5):\n",
    "    ''' Predict the class (or classes) of an image using a trained deep learning model.\n",
    "    '''\n",
    "    \n",
    "    # TODO: Implement the code to predict the class from an image file"
   ]
  },
  {
   "cell_type": "markdown",
   "metadata": {},
   "source": [
    "## Sanity Checking\n",
    "\n",
    "Now that you can use a trained model for predictions, check to make sure it makes sense. Even if the testing accuracy is high, it's always good to check that there aren't obvious bugs. Use `matplotlib` to plot the probabilities for the top 5 classes as a bar graph, along with the input image. It should look like this:\n",
    "\n",
    "<img src='assets/inference_example.png' width=300px>\n",
    "\n",
    "You can convert from the class integer encoding to actual flower names with the `cat_to_name.json` file (should have been loaded earlier in the notebook). To show a PyTorch tensor as an image, use the `imshow` function defined above."
   ]
  },
  {
   "cell_type": "code",
   "execution_count": null,
   "metadata": {},
   "outputs": [],
   "source": [
    "# TODO: Display an image along with the top 5 classes"
   ]
  }
 ],
 "metadata": {
  "kernelspec": {
   "display_name": "Python 3",
   "language": "python",
   "name": "python3"
  },
  "language_info": {
   "codemirror_mode": {
    "name": "ipython",
    "version": 3
   },
   "file_extension": ".py",
   "mimetype": "text/x-python",
   "name": "python",
   "nbconvert_exporter": "python",
   "pygments_lexer": "ipython3",
   "version": "3.6.3"
  }
 },
 "nbformat": 4,
 "nbformat_minor": 2
}
